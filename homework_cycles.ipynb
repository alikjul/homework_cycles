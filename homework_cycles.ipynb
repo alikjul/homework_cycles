{
 "cells": [
  {
   "cell_type": "markdown",
   "metadata": {},
   "source": [
    "**Задача 1**. Дано слово из латинских букв. Напишите скрипт, который выводит на экран букву из середины слова (если число букв нечетное). Если букв четное число, то на экран выводятся две буквы из середины.  \n",
    "\n",
    "Пример: для 'test' должно выводится 'es', для 'testing' - 't'"
   ]
  },
  {
   "cell_type": "code",
   "execution_count": null,
   "metadata": {},
   "outputs": [],
   "source": [
    "user_input = str(input('Введите слово латинскими буквами: '))\n",
    "if len(user_input) % 2 == 0:\n",
    "    print(user_input[(len(user_input) // 2) - 1 : (len(user_input) // 2) + 1])\n",
    "else:\n",
    "    print(user_input[len(user_input) // 2])"
   ]
  },
  {
   "cell_type": "markdown",
   "metadata": {},
   "source": [
    "**Задача 2**. Мы делаем MVP dating-сервиса, и у нас есть список парней и девушек (их число может варьироваться):"
   ]
  },
  {
   "cell_type": "code",
   "execution_count": null,
   "metadata": {},
   "outputs": [],
   "source": [
    "boys = ['Peter', 'Alex', 'John', 'Arthur', 'Richard']\n",
    "girls = ['Kate', 'Liza', 'Kira', 'Emma', 'Trisha']"
   ]
  },
  {
   "cell_type": "markdown",
   "metadata": {},
   "source": [
    "Выдвигаем гипотезу: лучшие рекомендации мы получим, если просто отсортируем имена по алфавиту и познакомим людей с одинаковыми индексами после сортировки! \"Познакомить\" пары нам поможет функция zip, а в цикле распакуем zip-объект и выведем информацию в виде:\n",
    "\n",
    "Идеальные пары:  \n",
    "Alex и Emma  \n",
    "Arthur и Kate  \n",
    "John и Kira  \n",
    "Peter и Liza  \n",
    "Richard и Trisha  "
   ]
  },
  {
   "cell_type": "markdown",
   "metadata": {},
   "source": [
    "**Внимание! Если количество людей в списках будет не совпадать, то мы никого знакомить не будет и выведем пользователю предупреждение, что кто-то может остаться без пары!**"
   ]
  },
  {
   "cell_type": "code",
   "execution_count": null,
   "metadata": {},
   "outputs": [],
   "source": [
    "# Наверное, требовалась простая сортировка, но у меня очень много свободного времени, так что...\n",
    "boys = ['Peter', 'Alex', 'John', 'Arthur', 'Richard']\n",
    "girls = ['Kate', 'Liza', 'Kira', 'Emma', 'Trisha']\n",
    "sex_input = str(input('Укажите Ваш пол (мужской, женский): '))\n",
    "if sex_input == 'мужской':\n",
    "    name_input = str(input('Укажите Ваше имя (латинскими буквами)'))\n",
    "    boys.append(name_input)\n",
    "elif sex_input == 'женский':\n",
    "    name_input = str(input('Укажите Ваше имя (латинскими буквами)'))\n",
    "    girls.append(name_input)\n",
    "else:\n",
    "    print('Вы ввели некорректное значение')\n",
    "while len(boys) != len(girls):\n",
    "    additional_input = str(input('Кто-то может остаться без пары! Добавить нового человека в список? (да/нет) '))\n",
    "    if additional_input == 'да':\n",
    "        sex_input = str(input('Укажите пол добавляемого человека (мужской, женский): '))\n",
    "        if sex_input == 'мужской':\n",
    "            name_input = str(input('Укажите имя добавляемого человека (латинскими буквами)'))\n",
    "            boys.append(name_input)\n",
    "        elif sex_input == 'женский':\n",
    "            name_input = str(input('Укажите имя добавляемого человека (латинскими буквами)'))\n",
    "            girls.append(name_input)\n",
    "        else:\n",
    "            print('Вы ввели некорректное значение')\n",
    "        if len(boys) == len(girls):\n",
    "            suggested_couples = zip(sorted(boys), sorted(girls))\n",
    "            print('Мы нашли Вам пару!')\n",
    "            print('Список идеальных пар: ', list(suggested_couples))\n",
    "    elif additional_input == 'нет':\n",
    "        print('Нам жаль, что мы не смогли найти Вам пару :(')\n",
    "        break\n",
    "    else:\n",
    "        print('Вы ввели некорректное значение')"
   ]
  },
  {
   "cell_type": "markdown",
   "metadata": {},
   "source": [
    "**Задача 3**. У нас есть список, содержащий информацию о среднедневной температуре в Фаренгейтах за недельный период по странам.\n",
    "Необходимо написать код, который рассчитает среднюю температуру за неделю в Цельсиях для каждой страны."
   ]
  },
  {
   "cell_type": "code",
   "execution_count": null,
   "metadata": {},
   "outputs": [],
   "source": [
    "# Вариант 1 - ленивый :)\n",
    "countries_temperature = [\n",
    " ['Thailand', [75.2, 77, 78.8, 73.4, 68, 75.2, 77]],\n",
    " ['Germany', [57.2, 55.4, 59, 59, 53.6, 55.4, 57.2]],\n",
    " ['Russia', [35.6, 37.4, 39.2, 41, 42.8, 39.2, 35.6]],\n",
    " ['Poland', [50, 50, 53.6, 57.2, 55.4, 55.4, 51.8]],\n",
    "]\n",
    "# Для перевода значений из градусов Фаренгейта в градусы по шкале Цельсия используется формула: [°C] = ([°F] − 32) × 5⁄9\n",
    "for temp in countries_temperature:\n",
    "    print(temp[0], int(((sum(temp[1]) / 7) - 32) * (5 / 9)))"
   ]
  },
  {
   "cell_type": "code",
   "execution_count": null,
   "metadata": {},
   "outputs": [],
   "source": [
    "# Вариант 2 - усложнённый\n",
    "countries_temperature = [\n",
    " ['Thailand', [75.2, 77, 78.8, 73.4, 68, 75.2, 77]],\n",
    " ['Germany', [57.2, 55.4, 59, 59, 53.6, 55.4, 57.2]],\n",
    " ['Russia', [35.6, 37.4, 39.2, 41, 42.8, 39.2, 35.6]],\n",
    " ['Poland', [50, 50, 53.6, 57.2, 55.4, 55.4, 51.8]],\n",
    "]\n",
    "thai = int(((sum(countries_temperature[0][1]) / 7) - 32) * (5 / 9))\n",
    "ger = int(((sum(countries_temperature[1][1]) / 7) - 32) * (5 / 9))\n",
    "rus = int(((sum(countries_temperature[2][1]) / 7) - 32) * (5 / 9))\n",
    "pol = int(((sum(countries_temperature[3][1]) / 7) - 32) * (5 / 9))\n",
    "print('Thailand, Germany, Russia, Poland')\n",
    "print('Для завершения введите \"завершить программу\"')\n",
    "for i in range(1000):\n",
    "    user_input = input('Введите название страны из списка: ')\n",
    "    if user_input == 'Thailand':\n",
    "        print('Средненедельная температура в Таиланде ', thai,'°C')\n",
    "        continue\n",
    "    elif user_input == 'Germany':\n",
    "        print('Средненедельная температура в Германии ', ger,'°C')\n",
    "        continue\n",
    "    elif user_input == 'Russia':\n",
    "        print('Средненедельная температура в России ', rus,'°C')\n",
    "        continue\n",
    "    elif user_input == 'Poland':\n",
    "        print('Средненедельная температура в Польше ', pol,'°C')\n",
    "        continue\n",
    "    elif user_input == 'завершить программу':\n",
    "        break\n",
    "    else:\n",
    "        print('Некорректный ввод')\n",
    "        continue\n",
    "print('Программа выполнена')"
   ]
  },
  {
   "cell_type": "markdown",
   "metadata": {},
   "source": [
    "**Задача 4.** Дан поток логов по количеству просмотренных страниц для каждого пользователя. Список отсортирован по ID пользователя. Вам необходимо написать алгоритм, который считает среднее значение просмотров на пользователя. \n",
    "Т. е. надо посчитать отношение суммы всех просмотров к количеству уникальных пользователей."
   ]
  },
  {
   "cell_type": "code",
   "execution_count": null,
   "metadata": {},
   "outputs": [],
   "source": [
    "stream = [\n",
    "    '2018-01-01,user1,3',\n",
    "    '2018-01-07,user1,4',\n",
    "    '2018-03-29,user1,1',\n",
    "    '2018-04-04,user1,13',\n",
    "    '2018-01-05,user2,7',\n",
    "    '2018-06-14,user3,4',\n",
    "    '2018-07-02,user3,10',\n",
    "    '2018-03-21,user4,19',\n",
    "    '2018-03-22,user4,4',\n",
    "    '2018-04-22,user4,8',\n",
    "    '2018-05-03,user4,9',\n",
    "    '2018-05-11,user4,11',\n",
    "]\n",
    "new_list = []\n",
    "views = 0\n",
    "for i in range(len(stream)):\n",
    "    new_list == new_list.append(stream[i].split(','))\n",
    "for k in new_list:\n",
    "    views += int(k[2])\n",
    "print('Общее количество просмотров:', views)\n",
    "user_list = []\n",
    "for l in range(len(new_list)):\n",
    "    user_list == user_list.append(new_list[l][1])\n",
    "print('Количество уникальных пользователей:', len(set(user_list)))\n",
    "print('Отношение суммы всех просмотров к количеству уникальных пользователей:',views // len(set(user_list)))"
   ]
  },
  {
   "cell_type": "markdown",
   "metadata": {},
   "source": [
    "**Задача 5**. Дана статистика рекламных кампаний по дням. Напишите алгоритм, который по паре дата-кампания ищет значение численного столбца. \n",
    "Т. е. для даты '2018-01-01' и 'google' нужно получить число 25. \n",
    "Считайте, что все комбинации дата-кампания уникальны."
   ]
  },
  {
   "cell_type": "code",
   "execution_count": null,
   "metadata": {},
   "outputs": [],
   "source": [
    "# Я знаю, очень коряво :(\n",
    "stats = [\n",
    "    ['2018-01-01', 'google', 25],\n",
    "    ['2018-01-01', 'yandex', 65],\n",
    "    ['2018-01-01', 'market', 89],\n",
    "    ['2018-01-02', 'google', 574],\n",
    "    ['2018-01-02', 'yandex', 249],\n",
    "    ['2018-01-02', 'market', 994],\n",
    "    ['2018-01-03', 'google', 1843],\n",
    "    ['2018-01-03', 'yandex', 1327],\n",
    "    ['2018-01-03', 'market', 1764],\n",
    "]\n",
    "date = []\n",
    "company = []\n",
    "value = []\n",
    "for i in range(len(stats)):\n",
    "    date == date.append(stats[i][0])\n",
    "for k in range(len(stats)):\n",
    "    company == company.append(stats[k][1])\n",
    "for l in range(len(stats)):\n",
    "    value == value.append(stats[l][2])\n",
    "print(set(date))\n",
    "print(set(company))\n",
    "date_input = input('Введите дату из списка: ')\n",
    "if date_input == date[0]:\n",
    "    company_input = input('Введите компанию из списка: ')\n",
    "    if company_input == company[0]:\n",
    "        print(value[0])\n",
    "    elif company_input == company[1]:\n",
    "        print(value[1])\n",
    "    elif company_input == company[2]:\n",
    "        print(value[2])\n",
    "    else:\n",
    "        print('Вы ввели некорректное значение')\n",
    "elif date_input == date[3]:\n",
    "    company_input = input('Введите компанию из списка: ')\n",
    "    if company_input == company[0]:\n",
    "        print(value[3])\n",
    "    elif company_input == company[1]:\n",
    "        print(value[4])\n",
    "    elif company_input == company[2]:\n",
    "        print(value[5])\n",
    "    else:\n",
    "        print('Вы ввели некорректное значение')\n",
    "elif date_input == date[6]:\n",
    "    company_input = input('Введите компанию из списка: ')\n",
    "    if company_input == company[0]:\n",
    "        print(value[6])\n",
    "    elif company_input == company[1]:\n",
    "        print(value[7])\n",
    "    elif company_input == company[2]:\n",
    "        print(value[8])\n",
    "    else:\n",
    "        print('Вы ввели некорректное значение')\n",
    "else:\n",
    "    print('Вы ввели некорректное значение')"
   ]
  },
  {
   "cell_type": "markdown",
   "metadata": {},
   "source": [
    "**Задача 6**. Дан список вида:"
   ]
  },
  {
   "cell_type": "code",
   "execution_count": null,
   "metadata": {},
   "outputs": [],
   "source": [
    "data = [\n",
    "    [13, 25, 23, 34],\n",
    "    [45, 32, 44, 47],\n",
    "    [12, 33, 23, 95],\n",
    "    [13, 53, 34, 35]\n",
    "]"
   ]
  },
  {
   "cell_type": "markdown",
   "metadata": {},
   "source": [
    "Напишите код, который будет вычислять сумму элементов на диагонали. Т. е. 13+32+23+35.  \n",
    "Список может быть любой длины, но всегда является \"квадратным\" (количество элементов во вложенных списках равно их количеству)."
   ]
  },
  {
   "cell_type": "code",
   "execution_count": null,
   "metadata": {},
   "outputs": [],
   "source": [
    "data = [\n",
    "    [13, 25, 23, 34],\n",
    "    [45, 32, 44, 47],\n",
    "    [12, 33, 23, 95],\n",
    "    [13, 53, 34, 35]\n",
    "]\n",
    "i = 0\n",
    "k = []\n",
    "while i < len(data):\n",
    "    i += 1\n",
    "    k == k.append(data[len(data)-i][len(data)-i])\n",
    "    if len(data) - i == 0:\n",
    "        print(sum(k))\n",
    "# проверка\n",
    "# print(data[0][0] + data[1][1] + data [2][2] + data [3][3])"
   ]
  },
  {
   "cell_type": "code",
   "execution_count": null,
   "metadata": {},
   "outputs": [],
   "source": []
  }
 ],
 "metadata": {
  "kernelspec": {
   "display_name": "Python 3",
   "language": "python",
   "name": "python3"
  },
  "language_info": {
   "codemirror_mode": {
    "name": "ipython",
    "version": 3
   },
   "file_extension": ".py",
   "mimetype": "text/x-python",
   "name": "python",
   "nbconvert_exporter": "python",
   "pygments_lexer": "ipython3",
   "version": "3.7.6"
  }
 },
 "nbformat": 4,
 "nbformat_minor": 2
}
